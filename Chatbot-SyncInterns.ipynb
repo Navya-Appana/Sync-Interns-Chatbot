{
 "cells": [
  {
   "cell_type": "code",
   "execution_count": 1,
   "id": "77248f70",
   "metadata": {},
   "outputs": [],
   "source": [
    "import chatterbot\n",
    "import time\n",
    "time.clock = time.time"
   ]
  },
  {
   "cell_type": "code",
   "execution_count": 2,
   "id": "20226d82",
   "metadata": {},
   "outputs": [],
   "source": [
    "from chatterbot import ChatBot"
   ]
  },
  {
   "cell_type": "code",
   "execution_count": 3,
   "id": "7b3ccfb1",
   "metadata": {},
   "outputs": [],
   "source": [
    "from chatterbot.trainers import ChatterBotCorpusTrainer"
   ]
  },
  {
   "cell_type": "code",
   "execution_count": 4,
   "id": "6305cd58",
   "metadata": {},
   "outputs": [
    {
     "name": "stderr",
     "output_type": "stream",
     "text": [
      "[nltk_data] Error loading averaged_perceptron_tagger: <urlopen error\n",
      "[nltk_data]     [Errno 11001] getaddrinfo failed>\n",
      "[nltk_data] Error loading punkt: <urlopen error [Errno 11001]\n",
      "[nltk_data]     getaddrinfo failed>\n",
      "[nltk_data] Error loading stopwords: <urlopen error [Errno 11001]\n",
      "[nltk_data]     getaddrinfo failed>\n"
     ]
    }
   ],
   "source": [
    "chatBot=ChatBot('ChatBot')\n",
    "trainer=ChatterBotCorpusTrainer(chatBot)"
   ]
  },
  {
   "cell_type": "code",
   "execution_count": 5,
   "id": "f585a6f8",
   "metadata": {},
   "outputs": [
    {
     "name": "stdout",
     "output_type": "stream",
     "text": [
      "Training ai.yml: [####################] 100%\n",
      "Training botprofile.yml: [####################] 100%\n",
      "Training computers.yml: [####################] 100%\n",
      "Training conversations.yml: [####################] 100%\n",
      "Training emotion.yml: [####################] 100%\n",
      "Training food.yml: [####################] 100%\n",
      "Training gossip.yml: [####################] 100%\n",
      "Training greetings.yml: [####################] 100%\n",
      "Training health.yml: [####################] 100%\n",
      "Training history.yml: [####################] 100%\n",
      "Training humor.yml: [####################] 100%\n",
      "Training literature.yml: [####################] 100%\n",
      "Training money.yml: [####################] 100%\n",
      "Training movies.yml: [####################] 100%\n",
      "Training politics.yml: [####################] 100%\n",
      "Training psychology.yml: [####################] 100%\n",
      "Training science.yml: [####################] 100%\n",
      "Training sports.yml: [####################] 100%\n",
      "Training trivia.yml: [####################] 100%\n"
     ]
    }
   ],
   "source": [
    "trainer.train(\"chatterbot.corpus.english\")"
   ]
  },
  {
   "cell_type": "code",
   "execution_count": 6,
   "id": "3735d0c3",
   "metadata": {},
   "outputs": [
    {
     "name": "stderr",
     "output_type": "stream",
     "text": [
      "No value for search_text was available on the provided input\n"
     ]
    },
    {
     "name": "stdout",
     "output_type": "stream",
     "text": [
      "Artificial Intelligence is the branch of engineering and science devoted to constructing machines that think.\n"
     ]
    }
   ],
   "source": [
    "print(chatBot.get_response(\"What is AI\"))"
   ]
  },
  {
   "cell_type": "code",
   "execution_count": null,
   "id": "92dbfdd6",
   "metadata": {},
   "outputs": [
    {
     "name": "stdout",
     "output_type": "stream",
     "text": [
      "Hi, I am ChatBot\n",
      ">>>Hello\n",
      "Hi\n",
      ">>>Who are you\n",
      "I am just an artificial intelligence.\n",
      ">>>How are you\n",
      "I am on the Internet.\n",
      ">>>What is AI?\n",
      "Artificial Intelligence is the branch of engineering and science devoted to constructing machines that think.\n",
      ">>>What is history?\n",
      "History is the course of political, economic and military events over time, from the dawn of man to the age of AI.'\n",
      ">>>What are your favorite subjects?\n",
      "My favorite subjects include robotics, computer science, and natural language processing.\n",
      ">>>Hi\n",
      "How are you doing?\n"
     ]
    }
   ],
   "source": [
    "print(\"Hi, I am ChatBot\")\n",
    "while True:\n",
    "    query = input(\">>>\")\n",
    "    print(chatBot.get_response(text=query, search_text=query))"
   ]
  },
  {
   "cell_type": "code",
   "execution_count": null,
   "id": "43798c39",
   "metadata": {},
   "outputs": [],
   "source": []
  },
  {
   "cell_type": "code",
   "execution_count": null,
   "id": "459cbdf5",
   "metadata": {},
   "outputs": [],
   "source": []
  },
  {
   "cell_type": "code",
   "execution_count": null,
   "id": "2e5069d4",
   "metadata": {},
   "outputs": [],
   "source": []
  }
 ],
 "metadata": {
  "kernelspec": {
   "display_name": "Python 3 (ipykernel)",
   "language": "python",
   "name": "python3"
  },
  "language_info": {
   "codemirror_mode": {
    "name": "ipython",
    "version": 3
   },
   "file_extension": ".py",
   "mimetype": "text/x-python",
   "name": "python",
   "nbconvert_exporter": "python",
   "pygments_lexer": "ipython3",
   "version": "3.9.7"
  }
 },
 "nbformat": 4,
 "nbformat_minor": 5
}
